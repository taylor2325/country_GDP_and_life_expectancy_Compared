{
 "cells": [
  {
   "cell_type": "code",
   "execution_count": 2,
   "metadata": {},
   "outputs": [],
   "source": [
    "\n",
    "import numpy as np\n",
    "import pandas as pd\n",
    "import matplotlib.pyplot as plt"
   ]
  },
  {
   "cell_type": "code",
   "execution_count": null,
   "metadata": {},
   "outputs": [],
   "source": [
    "data = pd.read_csv(\"country_data.csv\")\n",
    "\n",
    "#print(data.head())\n",
    "life_expectancy =  data['Life Expectancy']\n",
    "life_expectancy_quartiles = np.quantile(life_expectancy,[0.25,0.5,0.75])\n",
    "#plt.hist(life_expectancy)\n",
    "#plt.show()\n",
    "gdp = data['GDP']\n",
    "median_gdp = np.quantile(gdp,0.5)\n",
    "\n",
    "low_gdp = data[data['GDP'] <= median_gdp]\n",
    "high_gdp =  data[data['GDP'] > median_gdp]\n",
    "\n",
    "low_gdp_quartiles = np.quantile(gdp,[0.25,0.5,0.75])\n",
    "print(low_gdp_quartiles)\n",
    "\n",
    "plt.hist(high_gdp[\"Life Expectancy\"], alpha = 0.5, label = \"High GDP\")\n",
    "plt.hist(low_gdp[\"Life Expectancy\"], alpha = 0.5, label = \"Low GDP\")\n",
    "plt.xlabel('Age in Years')\n",
    "plt.ylabel('Number of Nations')\n",
    "plt.title('Nations compared with their GDP and their life expectancy')\n",
    "plt.legend()\n",
    "plt.show()\n"
   ]
  }
 ],
 "metadata": {
  "kernelspec": {
   "display_name": "Python 3",
   "language": "python",
   "name": "python3"
  },
  "language_info": {
   "codemirror_mode": {
    "name": "ipython",
    "version": 3
   },
   "file_extension": ".py",
   "mimetype": "text/x-python",
   "name": "python",
   "nbconvert_exporter": "python",
   "pygments_lexer": "ipython3",
   "version": "3.7.6"
  }
 },
 "nbformat": 4,
 "nbformat_minor": 4
}
